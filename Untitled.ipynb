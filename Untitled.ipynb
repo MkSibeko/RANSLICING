{
 "cells": [
  {
   "cell_type": "code",
   "execution_count": 141,
   "id": "a0e7b1da",
   "metadata": {},
   "outputs": [],
   "source": [
    "import math\n",
    "import numpy as np\n",
    "#\n",
    "def sig(x):\n",
    "    return 1/(1 + np.exp(-x))\n",
    "\n",
    "def calc_reward(violation, total_violation, num_slices):     \n",
    "    actions = 1\n",
    "    used_prbs = 1\n",
    "    mean_ratio = 1\n",
    "    cost = math.exp(0.5*violation + 0.3*total_violation + 0.2*(violation*5/(total_violation+0.001)))\n",
    "    reward = sig(2 - cost)\n",
    "    return reward"
   ]
  },
  {
   "cell_type": "code",
   "execution_count": 152,
   "id": "502b717b",
   "metadata": {},
   "outputs": [
    {
     "data": {
      "text/plain": [
       "0.7310585786300049"
      ]
     },
     "execution_count": 152,
     "metadata": {},
     "output_type": "execute_result"
    }
   ],
   "source": [
    "calc_reward(0, 0, 5)"
   ]
  }
 ],
 "metadata": {
  "kernelspec": {
   "display_name": "Python 3 (ipykernel)",
   "language": "python",
   "name": "python3"
  },
  "language_info": {
   "codemirror_mode": {
    "name": "ipython",
    "version": 3
   },
   "file_extension": ".py",
   "mimetype": "text/x-python",
   "name": "python",
   "nbconvert_exporter": "python",
   "pygments_lexer": "ipython3",
   "version": "3.10.9"
  }
 },
 "nbformat": 4,
 "nbformat_minor": 5
}
